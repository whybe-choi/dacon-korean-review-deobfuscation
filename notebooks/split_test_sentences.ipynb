{
 "cells": [
  {
   "cell_type": "markdown",
   "metadata": {},
   "source": [
    "## 📌 복원된 리뷰를 바탕을 난독화된 리뷰 문장 단위로 분할\n",
    "\n",
    "- 전체 리뷰를 한번에 복원할 경우, 대응되는 부분의 길이가 일치하지 않는 문제가 주로 발생하게 됩니다.\n",
    "- 따라서 전체 리뷰를 개별 문장 수준의 리뷰로 나누어 모델이 복원을 진행하도록 함으로써 이러한 문제를 최대한 완화하고자 하였습니다.\n",
    "- 모델에게 개별 문장 수준에서 복원을 진행하도록 하면 난이도가 훨씬 쉬워지기 때문에 모델이 리뷰를 더 잘 복원할 수 있을거라 생각했습니다.\n",
    "- 전체 리뷰를 개별 문장으로 나눌 때, 전체 리뷰를 한번에 복원한 데이터를 이용하게 됩니다."
   ]
  },
  {
   "cell_type": "markdown",
   "metadata": {},
   "source": [
    "\n",
    "**아래의 코드는 다음과 같은 순서로 동작합니다.**\n",
    "- 전체 리뷰를 한번에 복원한 이후에 사전 기반으로 후처리한 데이터([submission_postprocess.csv](../submissions/submission_postprocess.csv))를 문장 단위로 나눕니다.\n",
    "- 나뉜 문장을 바탕으로 기존 난독화된 리뷰([test.csv](../data/test.csv))에서 동일한 위치에 대응되는 부분을 나눕니다.\n",
    "- 테스트 데이터를 문장 단위로 나눈 데이터([test_sentences.csv](../data/test_sentences.csv))를 저장합니다."
   ]
  },
  {
   "cell_type": "markdown",
   "metadata": {},
   "source": [
    "❗️NEXT STEP : 문장 단위로 나눈 난독화된 리뷰를 문장 단위로 복원 -> 기존 추론 코드를 참고해주세요."
   ]
  },
  {
   "cell_type": "markdown",
   "metadata": {},
   "source": [
    "### 🏷️ 데이터셋 불러오기"
   ]
  },
  {
   "cell_type": "code",
   "execution_count": 1,
   "metadata": {},
   "outputs": [],
   "source": [
    "import pandas as pd"
   ]
  },
  {
   "cell_type": "code",
   "execution_count": 2,
   "metadata": {},
   "outputs": [],
   "source": [
    "test_df = pd.read_csv('../data/test.csv', encoding='utf-8-sig') # 난독화된 리뷰\n",
    "post_df = pd.read_csv('../submissions/submission_postprocess.csv', encoding='utf-8-sig') # 학습된 모델이 복원된 리뷰를 후처리한 리뷰 (난독화된 리뷰와 길이 일치)"
   ]
  },
  {
   "cell_type": "code",
   "execution_count": 3,
   "metadata": {},
   "outputs": [
    {
     "data": {
      "text/html": [
       "<div>\n",
       "<style scoped>\n",
       "    .dataframe tbody tr th:only-of-type {\n",
       "        vertical-align: middle;\n",
       "    }\n",
       "\n",
       "    .dataframe tbody tr th {\n",
       "        vertical-align: top;\n",
       "    }\n",
       "\n",
       "    .dataframe thead th {\n",
       "        text-align: right;\n",
       "    }\n",
       "</style>\n",
       "<table border=\"1\" class=\"dataframe\">\n",
       "  <thead>\n",
       "    <tr style=\"text-align: right;\">\n",
       "      <th></th>\n",
       "      <th>ID</th>\n",
       "      <th>output</th>\n",
       "    </tr>\n",
       "  </thead>\n",
       "  <tbody>\n",
       "    <tr>\n",
       "      <th>0</th>\n",
       "      <td>TEST_0000</td>\n",
       "      <td>너무너무 만족스러운 호텔이에요. 부산에 오면 꼭 추천하고 싶은 곳이에요. 최고입니다...</td>\n",
       "    </tr>\n",
       "    <tr>\n",
       "      <th>1</th>\n",
       "      <td>TEST_0001</td>\n",
       "      <td>프론트가 없고, 조식도 없으며, 일반 입주민들이 샤있샤윔엡 있어 호텔처럼 관리가 잘...</td>\n",
       "    </tr>\n",
       "    <tr>\n",
       "      <th>2</th>\n",
       "      <td>TEST_0002</td>\n",
       "      <td>진짜 불친절해요. 살면서 머물렀던 호텔 중에 최악이었습니다. 직원인지 사장인지 체크...</td>\n",
       "    </tr>\n",
       "    <tr>\n",
       "      <th>3</th>\n",
       "      <td>TEST_0003</td>\n",
       "      <td>뷰 맛집~~ 그런데 방음이 미흡하네요. 층간 소음과 발코니가 이중창이 아니라서 밤에...</td>\n",
       "    </tr>\n",
       "    <tr>\n",
       "      <th>4</th>\n",
       "      <td>TEST_0004</td>\n",
       "      <td>방 상태는 진짜 폐허 직전인데 전망은 좋아요. 보일러가 아주 찬찬하게 돌아서 추웠어...</td>\n",
       "    </tr>\n",
       "  </tbody>\n",
       "</table>\n",
       "</div>"
      ],
      "text/plain": [
       "          ID                                             output\n",
       "0  TEST_0000  너무너무 만족스러운 호텔이에요. 부산에 오면 꼭 추천하고 싶은 곳이에요. 최고입니다...\n",
       "1  TEST_0001  프론트가 없고, 조식도 없으며, 일반 입주민들이 샤있샤윔엡 있어 호텔처럼 관리가 잘...\n",
       "2  TEST_0002  진짜 불친절해요. 살면서 머물렀던 호텔 중에 최악이었습니다. 직원인지 사장인지 체크...\n",
       "3  TEST_0003  뷰 맛집~~ 그런데 방음이 미흡하네요. 층간 소음과 발코니가 이중창이 아니라서 밤에...\n",
       "4  TEST_0004  방 상태는 진짜 폐허 직전인데 전망은 좋아요. 보일러가 아주 찬찬하게 돌아서 추웠어..."
      ]
     },
     "execution_count": 3,
     "metadata": {},
     "output_type": "execute_result"
    }
   ],
   "source": [
    "post_df.head()"
   ]
  },
  {
   "cell_type": "markdown",
   "metadata": {},
   "source": [
    "### 🏷️ 복원된 리뷰 문장 단위로 분할"
   ]
  },
  {
   "cell_type": "code",
   "execution_count": 4,
   "metadata": {},
   "outputs": [
    {
     "name": "stderr",
     "output_type": "stream",
     "text": [
      "[Kss]: Oh! You have mecab in your environment. Kss will take this as a backend! :D\n",
      "\n"
     ]
    }
   ],
   "source": [
    "from kss import split_sentences\n",
    "\n",
    "post_df['sentences'] = post_df[\"output\"].apply(lambda x: split_sentences(x))"
   ]
  },
  {
   "cell_type": "code",
   "execution_count": null,
   "metadata": {},
   "outputs": [
    {
     "data": {
      "text/plain": [
       "0    [너무너무 만족스러운 호텔이에요., 부산에 오면 꼭 추천하고 싶은 곳이에요., 최고...\n",
       "1    [프론트가 없고, 조식도 없으며, 일반 입주민들이 샤있샤윔엡 있어 호텔처럼 관리가 ...\n",
       "2    [진짜 불친절해요., 살면서 머물렀던 호텔 중에 최악이었습니다., 직원인지 사장인지...\n",
       "3    [뷰 맛집~~ 그런데 방음이 미흡하네요., 층간 소음과 발코니가 이중창이 아니라서 ...\n",
       "4    [방 상태는 진짜 폐허 직전인데 전망은 좋아요., 보일러가 아주 찬찬하게 돌아서 추...\n",
       "Name: sentences, dtype: object"
      ]
     },
     "execution_count": 5,
     "metadata": {},
     "output_type": "execute_result"
    }
   ],
   "source": [
    "post_df['sentences'].head()"
   ]
  },
  {
   "cell_type": "markdown",
   "metadata": {},
   "source": [
    "### 🏷️ 복원된 리뷰 문장을 바탕으로 난독화된 리뷰를 문장 단위로 분할"
   ]
  },
  {
   "cell_type": "code",
   "execution_count": 6,
   "metadata": {},
   "outputs": [],
   "source": [
    "test_sentences = {\"ID\" : [], \"input\": [], \"start_idx\": [], \"end_idx\": []}\n",
    "\n",
    "for idx, row in post_df.iterrows():\n",
    "    start_idx, end_idx = 0, 0\n",
    "    for i, sent in enumerate(row['sentences']):\n",
    "        start_idx = row['output'].find(sent, end_idx) # 이전 문장의 끝 인덱스부터 시작\n",
    "        end_idx = start_idx + len(sent) # 시작 인덱스부터 문장 길이만큼 더함\n",
    "        mapping_sent = test_df['input'][idx][start_idx:end_idx] # 난독화된 리뷰에서 복원된 리뷰의 문장과 일치하는 부분을 찾음\n",
    "\n",
    "        test_sentences['ID'].append(row['ID'])\n",
    "        test_sentences['input'].append(mapping_sent)\n",
    "        test_sentences['start_idx'].append(start_idx)\n",
    "        test_sentences['end_idx'].append(end_idx)"
   ]
  },
  {
   "cell_type": "code",
   "execution_count": 7,
   "metadata": {},
   "outputs": [
    {
     "data": {
      "text/html": [
       "<div>\n",
       "<style scoped>\n",
       "    .dataframe tbody tr th:only-of-type {\n",
       "        vertical-align: middle;\n",
       "    }\n",
       "\n",
       "    .dataframe tbody tr th {\n",
       "        vertical-align: top;\n",
       "    }\n",
       "\n",
       "    .dataframe thead th {\n",
       "        text-align: right;\n",
       "    }\n",
       "</style>\n",
       "<table border=\"1\" class=\"dataframe\">\n",
       "  <thead>\n",
       "    <tr style=\"text-align: right;\">\n",
       "      <th></th>\n",
       "      <th>ID</th>\n",
       "      <th>input</th>\n",
       "      <th>start_idx</th>\n",
       "      <th>end_idx</th>\n",
       "    </tr>\n",
       "  </thead>\n",
       "  <tbody>\n",
       "    <tr>\n",
       "      <th>0</th>\n",
       "      <td>TEST_0000</td>\n",
       "      <td>녀뮨넒뭅 만죡숭러윤 효템뤼에오.</td>\n",
       "      <td>0</td>\n",
       "      <td>17</td>\n",
       "    </tr>\n",
       "    <tr>\n",
       "      <th>1</th>\n",
       "      <td>TEST_0000</td>\n",
       "      <td>푸싸눼 옰면 콕 츄쩐학꼬 싶은 콧쉰웨오.</td>\n",
       "      <td>18</td>\n",
       "      <td>40</td>\n",
       "    </tr>\n",
       "    <tr>\n",
       "      <th>2</th>\n",
       "      <td>TEST_0000</td>\n",
       "      <td>췌꾜윕뉘댜! ㅎㅎ</td>\n",
       "      <td>41</td>\n",
       "      <td>50</td>\n",
       "    </tr>\n",
       "    <tr>\n",
       "      <th>3</th>\n",
       "      <td>TEST_0000</td>\n",
       "      <td>당음웨 또 옭 컷 갗았요.</td>\n",
       "      <td>51</td>\n",
       "      <td>65</td>\n",
       "    </tr>\n",
       "    <tr>\n",
       "      <th>4</th>\n",
       "      <td>TEST_0001</td>\n",
       "      <td>풀룐투갸 엎코, 좀식또 업읍머, 윌뱐 잎츔민든릿 샤있샤윔엡 위썬 호뗄첨렴 관뤽갉 찰...</td>\n",
       "      <td>0</td>\n",
       "      <td>58</td>\n",
       "    </tr>\n",
       "  </tbody>\n",
       "</table>\n",
       "</div>"
      ],
      "text/plain": [
       "          ID                                              input  start_idx  \\\n",
       "0  TEST_0000                                  녀뮨넒뭅 만죡숭러윤 효템뤼에오.          0   \n",
       "1  TEST_0000                             푸싸눼 옰면 콕 츄쩐학꼬 싶은 콧쉰웨오.         18   \n",
       "2  TEST_0000                                          췌꾜윕뉘댜! ㅎㅎ         41   \n",
       "3  TEST_0000                                     당음웨 또 옭 컷 갗았요.         51   \n",
       "4  TEST_0001  풀룐투갸 엎코, 좀식또 업읍머, 윌뱐 잎츔민든릿 샤있샤윔엡 위썬 호뗄첨렴 관뤽갉 찰...          0   \n",
       "\n",
       "   end_idx  \n",
       "0       17  \n",
       "1       40  \n",
       "2       50  \n",
       "3       65  \n",
       "4       58  "
      ]
     },
     "execution_count": 7,
     "metadata": {},
     "output_type": "execute_result"
    }
   ],
   "source": [
    "test_sentences_df = pd.DataFrame(test_sentences)\n",
    "test_sentences_df.head()"
   ]
  },
  {
   "cell_type": "code",
   "execution_count": 8,
   "metadata": {},
   "outputs": [
    {
     "data": {
      "text/plain": [
       "8153"
      ]
     },
     "execution_count": 8,
     "metadata": {},
     "output_type": "execute_result"
    }
   ],
   "source": [
    "len(test_sentences_df)"
   ]
  },
  {
   "cell_type": "markdown",
   "metadata": {},
   "source": [
    "### 🏷️ 문장 단위로 분리된 난독화된 리뷰 저장"
   ]
  },
  {
   "cell_type": "code",
   "execution_count": 9,
   "metadata": {},
   "outputs": [],
   "source": [
    "test_sentences_df.to_csv('../data/test_sentences.csv', index=False, encoding='utf-8-sig')"
   ]
  }
 ],
 "metadata": {
  "kernelspec": {
   "display_name": "dacon-test",
   "language": "python",
   "name": "python3"
  },
  "language_info": {
   "codemirror_mode": {
    "name": "ipython",
    "version": 3
   },
   "file_extension": ".py",
   "mimetype": "text/x-python",
   "name": "python",
   "nbconvert_exporter": "python",
   "pygments_lexer": "ipython3",
   "version": "3.10.16"
  }
 },
 "nbformat": 4,
 "nbformat_minor": 2
}
