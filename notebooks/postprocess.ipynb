{
 "cells": [
  {
   "cell_type": "markdown",
   "metadata": {},
   "source": [
    "## 🏷️ 대응되는 단어 기반 후처리"
   ]
  },
  {
   "cell_type": "code",
   "execution_count": null,
   "metadata": {},
   "outputs": [],
   "source": [
    "import pandas as pd\n",
    "\n",
    "test_df = pd.read_csv(\"../data/test_preprocess.csv\", encoding=\"utf-8-sig\") # 난독화된 리뷰를 가져오기 위한 테스트 파일\n",
    "submit_df = pd.read_csv(\"../submissions/submission_best.csv\", encoding=\"utf-8-sig\") # 후처리할 복원된 리뷰를 가져오기 위한 제출 파일"
   ]
  },
  {
   "cell_type": "code",
   "execution_count": 9,
   "metadata": {},
   "outputs": [],
   "source": [
    "import re\n",
    "\n",
    "# 단어와 공백을 분리하는 함수\n",
    "def split_with_spaces(text):\n",
    "    # 공백(1개 이상)과 단어를 분리\n",
    "    return re.split(r'(\\s+)', text)\n",
    "\n",
    "# 데이터프레임에 적용\n",
    "test_df[\"text\"] = test_df[\"input\"].apply(split_with_spaces)\n",
    "submit_df[\"text\"] = submit_df[\"output\"].apply(split_with_spaces)"
   ]
  },
  {
   "cell_type": "code",
   "execution_count": 10,
   "metadata": {},
   "outputs": [
    {
     "data": {
      "text/plain": [
       "0    [너무너무,  , 만족숭러윤,  , 호데리에요.,  , 푸싸눼,  , 옰면,  , ...\n",
       "1    [프론트갸,  , 엎코,,  , 좀식또,  , 업읍머,,  , 일반,  , 잎츔민든...\n",
       "2    [진짜,  , 붉친절해요.,  , 삶면서,  , 머물려던,  , 호텔,  , 중웨,...\n",
       "3    [붊,  , 맛집~~,  , 그런뎨,  , 방음잃,  , 뮈흙퍄네요.,  , 중간,...\n",
       "4    [빻,  , 상태는,  , 진짜,  , 폐헐,  , 칙젓인데,  , 전망은,  , ...\n",
       "Name: text, dtype: object"
      ]
     },
     "execution_count": 10,
     "metadata": {},
     "output_type": "execute_result"
    }
   ],
   "source": [
    "test_df[\"text\"].head()"
   ]
  },
  {
   "cell_type": "code",
   "execution_count": 11,
   "metadata": {},
   "outputs": [
    {
     "data": {
      "text/plain": [
       "0    [너무너무,  , 만족스러운,  , 호텔이에요.,  , 부산에,  , 오면,  , ...\n",
       "1    [프론트가,  , 없고,,  , 조식도,  , 없으며,,  , 일반,  , 입주민들...\n",
       "2    [진짜,  , 불친절해요.,  , 살면서,  , 머물렀던,  , 호텔,  , 중에,...\n",
       "3    [뷰,  , 맛집~~,  , 그런데,  , 방음이,  , 미흡하네요.,  , 층간,...\n",
       "4    [방,  , 상태는,  , 진짜,  , 폐허,  , 직전인데,  , 전망은,  , ...\n",
       "Name: text, dtype: object"
      ]
     },
     "execution_count": 11,
     "metadata": {},
     "output_type": "execute_result"
    }
   ],
   "source": [
    "submit_df[\"text\"].head()"
   ]
  },
  {
   "cell_type": "markdown",
   "metadata": {},
   "source": [
    "## 🏷️ 대응되는 단어의 길이가 일치하지 않은 경우"
   ]
  },
  {
   "cell_type": "code",
   "execution_count": 12,
   "metadata": {},
   "outputs": [],
   "source": [
    "for input_text, output_text in zip(test_df[\"text\"], submit_df[\"text\"]):\n",
    "    for i, (input_word, output_word) in enumerate(zip(input_text, output_text)):\n",
    "        # 글자 수가 다른 단어들을 추출\n",
    "        if len(input_word) != len(output_word):\n",
    "            # 글자 수가 다른 단어를 교체\n",
    "            output_text[i] = input_word"
   ]
  },
  {
   "cell_type": "markdown",
   "metadata": {},
   "source": [
    "## 🏷️ 전체 문장 길이가 일치하지 않을 경우"
   ]
  },
  {
   "cell_type": "code",
   "execution_count": null,
   "metadata": {},
   "outputs": [],
   "source": [
    "outputs = []\n",
    "for i, (input_text, output_text) in enumerate(zip(test_df[\"input\"], submit_df[\"text\"])):\n",
    "    # output_text 리스트를 문자열로 합침\n",
    "    combined_output = \"\".join(output_text)\n",
    "    if len(combined_output) < len(input_text):\n",
    "        # 처음부터 복원된 리뷰의 길이가 난독화된 리뷰의 길이보다 짧다면 남은 길이만큼 난독화된 리뷰를 그대로 이어 붙이기\n",
    "        combined_output = combined_output + input_text[len(combined_output):]\n",
    "    elif len(combined_output) > len(input_text):\n",
    "        # 처음부터 복원된 리뷰의 길이가 난독화된 리뷰의 길이보다 길다면 난독화된 리뷰의 길이만큼만 잘라내기\n",
    "        combined_output = combined_output[:len(input_text)]\n",
    "        \n",
    "    print(f\"Test   {i}: {input_text}\")\n",
    "    print(f\"Submit {i}: {combined_output}\")\n",
    "    print()\n",
    "\n",
    "    outputs.append(combined_output)"
   ]
  },
  {
   "cell_type": "markdown",
   "metadata": {},
   "source": [
    "## 🏷️ 후처리된 파일 저장"
   ]
  },
  {
   "cell_type": "code",
   "execution_count": 14,
   "metadata": {},
   "outputs": [],
   "source": [
    "# 제출 파일에 대입\n",
    "submit_df[\"output\"] = outputs\n",
    "submit_df[[\"ID\", \"output\"]].to_csv(\"./submissions/submission_postprocess.csv\", index=False, encoding=\"utf-8-sig\")"
   ]
  }
 ],
 "metadata": {
  "kernelspec": {
   "display_name": "dacon",
   "language": "python",
   "name": "python3"
  },
  "language_info": {
   "codemirror_mode": {
    "name": "ipython",
    "version": 3
   },
   "file_extension": ".py",
   "mimetype": "text/x-python",
   "name": "python",
   "nbconvert_exporter": "python",
   "pygments_lexer": "ipython3",
   "version": "3.10.16"
  }
 },
 "nbformat": 4,
 "nbformat_minor": 2
}
