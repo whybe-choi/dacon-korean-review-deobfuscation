{
 "cells": [
  {
   "cell_type": "markdown",
   "metadata": {},
   "source": [
    "## 🏷️ 학습 데이터 기반의 사전 구축을 통한 전처리"
   ]
  },
  {
   "cell_type": "code",
   "execution_count": null,
   "metadata": {},
   "outputs": [],
   "source": [
    "import pandas as pd"
   ]
  },
  {
   "cell_type": "code",
   "execution_count": null,
   "metadata": {},
   "outputs": [],
   "source": [
    "train = pd.read_csv('../data/train.csv', encoding = 'utf-8-sig')\n",
    "test = pd.read_csv('../data/test.csv', encoding = 'utf-8-sig')"
   ]
  },
  {
   "cell_type": "code",
   "execution_count": null,
   "metadata": {},
   "outputs": [],
   "source": [
    "print(len(train))\n",
    "print(len(test))"
   ]
  },
  {
   "cell_type": "code",
   "execution_count": null,
   "metadata": {},
   "outputs": [],
   "source": [
    "train.head()"
   ]
  },
  {
   "cell_type": "code",
   "execution_count": null,
   "metadata": {},
   "outputs": [],
   "source": [
    "train['input'][0]"
   ]
  },
  {
   "cell_type": "code",
   "execution_count": null,
   "metadata": {},
   "outputs": [],
   "source": [
    "train['output'][0]"
   ]
  },
  {
   "cell_type": "markdown",
   "metadata": {},
   "source": [
    "## 🏷️ 형태소 기반 단어 사전 생성"
   ]
  },
  {
   "cell_type": "code",
   "execution_count": null,
   "metadata": {},
   "outputs": [],
   "source": [
    "from kiwipiepy import Kiwi\n",
    "from collections import defaultdict\n",
    "\n",
    "kiwi = Kiwi()\n",
    "obfuscation_vocab = defaultdict(set)\n",
    "\n",
    "for idx, row in train.iterrows():\n",
    "    original_text = row['output']\n",
    "    obfuscated_text = row['input']\n",
    "    obfuscated_chars = list(obfuscated_text)\n",
    "\n",
    "    tokens = kiwi.tokenize(original_text)\n",
    "\n",
    "    for token in tokens:\n",
    "        if token.len != 1: # 하나의 글자인 경우는 제외\n",
    "            obfuscated_noun = ''.join(obfuscated_chars[token.start:token.start+token.len])\n",
    "            obfuscation_vocab[original_text[token.start:token.start+token.len]].add(obfuscated_noun)"
   ]
  },
  {
   "cell_type": "markdown",
   "metadata": {},
   "source": [
    "## 🏷️ 사전을 바탕으로 전처리"
   ]
  },
  {
   "cell_type": "code",
   "execution_count": null,
   "metadata": {},
   "outputs": [],
   "source": [
    "for _, row in test.iterrows():\n",
    "    for noun, obfuscated_list in obfuscation_vocab.items():\n",
    "        for obfuscated_word in obfuscated_list:\n",
    "            if obfuscated_word in row['input']:\n",
    "                row['input'] = row['input'].replace(obfuscated_word, noun)"
   ]
  },
  {
   "cell_type": "markdown",
   "metadata": {},
   "source": [
    "## 🏷️ 전처리된 데이터 저장"
   ]
  },
  {
   "cell_type": "code",
   "execution_count": null,
   "metadata": {},
   "outputs": [],
   "source": [
    "test.to_csv(\"../data/test_processed.csv\", index=False, encoding='utf-8-sig')"
   ]
  }
 ],
 "metadata": {
  "kernelspec": {
   "display_name": "dacon",
   "language": "python",
   "name": "python3"
  },
  "language_info": {
   "codemirror_mode": {
    "name": "ipython",
    "version": 3
   },
   "file_extension": ".py",
   "mimetype": "text/x-python",
   "name": "python",
   "nbconvert_exporter": "python",
   "pygments_lexer": "ipython3",
   "version": "3.10.16"
  }
 },
 "nbformat": 4,
 "nbformat_minor": 2
}
