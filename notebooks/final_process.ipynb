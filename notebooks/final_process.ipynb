{
 "cells": [
  {
   "cell_type": "markdown",
   "metadata": {},
   "source": [
    "## 📌 문장 단위로 복원한 리뷰 다시 합치기\n",
    "\n",
    "- [복원된 리뷰를 바탕을 난독화된 리뷰 문장 단위로 분할](./split_test_sentences.ipynb)한 이후에 분할한 문장을 모델에게 입력하여 문장 단위로 복원합니다.\n",
    "- 복원한 이후에 다시 원래와 같은 리뷰의 형태로 만드는 작업을 진행해야 합니다.\n",
    "- 이때, 문장 단위로 복원한 데이터([submission_sentences.csv](../submissions/submission_sentences.csv))에 해당 문장이 전체 리뷰에서 어느 위치에 있는지를 기록하였기 때문에 이를 바탕으로 전체 리뷰에서 해당 문장에 대응되는 부분을 교체해줍니다.\n",
    "- 문장 단위로 리뷰를 복원하였음에도 글자 수가 일치하지 않는 부분에 대해서는 전체 리뷰 단위로 복원한 이후에 후처리한 데이터([submission_postprocess.csv](../submissions/submission_postprocess.csv))를 사용하여 글자 수가 기존 테스트 데이터와 일치할 수 있도록 합니다.\n",
    "- 최종적으로 이러한 작업을 거치게 되면 테스트 데이터에 있는 난독화된 리뷰를 복원한 데이터([submission_final.csv](../submissions/submission_final.csv))이 저장됩니다."
   ]
  },
  {
   "cell_type": "code",
   "execution_count": 1,
   "metadata": {},
   "outputs": [],
   "source": [
    "import pandas as pd\n",
    "\n",
    "sub_sentences = pd.read_csv('../submissions/submission_sentences.csv', encoding='utf-8-sig') # 문장 단위로 복원된 리뷰\n",
    "post_df = pd.read_csv('../submissions/submission_postprocess.csv', encoding='utf-8-sig') # 학습된 모델이 복원된 리뷰를 후처리한 리뷰 (난독화된 리뷰와 길이 일치)"
   ]
  },
  {
   "cell_type": "code",
   "execution_count": 2,
   "metadata": {},
   "outputs": [
    {
     "data": {
      "text/html": [
       "<div>\n",
       "<style scoped>\n",
       "    .dataframe tbody tr th:only-of-type {\n",
       "        vertical-align: middle;\n",
       "    }\n",
       "\n",
       "    .dataframe tbody tr th {\n",
       "        vertical-align: top;\n",
       "    }\n",
       "\n",
       "    .dataframe thead th {\n",
       "        text-align: right;\n",
       "    }\n",
       "</style>\n",
       "<table border=\"1\" class=\"dataframe\">\n",
       "  <thead>\n",
       "    <tr style=\"text-align: right;\">\n",
       "      <th></th>\n",
       "      <th>ID</th>\n",
       "      <th>input</th>\n",
       "      <th>start_idx</th>\n",
       "      <th>end_idx</th>\n",
       "      <th>output</th>\n",
       "    </tr>\n",
       "  </thead>\n",
       "  <tbody>\n",
       "    <tr>\n",
       "      <th>0</th>\n",
       "      <td>TEST_0000</td>\n",
       "      <td>녀뮨넒뭅 만죡숭러윤 효템뤼에오.</td>\n",
       "      <td>0</td>\n",
       "      <td>17</td>\n",
       "      <td>너무너무 만족스러운 호텔이에요.</td>\n",
       "    </tr>\n",
       "    <tr>\n",
       "      <th>1</th>\n",
       "      <td>TEST_0000</td>\n",
       "      <td>푸싸눼 옰면 콕 츄쩐학꼬 싶은 콧쉰웨오.</td>\n",
       "      <td>18</td>\n",
       "      <td>40</td>\n",
       "      <td>부산에 오면 꼭 추천하고 싶은 곳이네요.</td>\n",
       "    </tr>\n",
       "    <tr>\n",
       "      <th>2</th>\n",
       "      <td>TEST_0000</td>\n",
       "      <td>췌꾜윕뉘댜! ㅎㅎ</td>\n",
       "      <td>41</td>\n",
       "      <td>50</td>\n",
       "      <td>최고입니다! ㅎㅎ</td>\n",
       "    </tr>\n",
       "    <tr>\n",
       "      <th>3</th>\n",
       "      <td>TEST_0000</td>\n",
       "      <td>당음웨 또 옭 컷 갗았요.</td>\n",
       "      <td>51</td>\n",
       "      <td>65</td>\n",
       "      <td>다음에 또 올 것 같아요.</td>\n",
       "    </tr>\n",
       "    <tr>\n",
       "      <th>4</th>\n",
       "      <td>TEST_0001</td>\n",
       "      <td>풀룐투갸 엎코, 좀식또 업읍머, 윌뱐 잎츔민든릿 샤있샤윔엡 위썬 호뗄첨렴 관뤽갉 찰...</td>\n",
       "      <td>0</td>\n",
       "      <td>58</td>\n",
       "      <td>프론트가 없고, 조식도 없으며, 일반 입주민들이 사이트임에 있어 호텔처럼 관리가 잘...</td>\n",
       "    </tr>\n",
       "  </tbody>\n",
       "</table>\n",
       "</div>"
      ],
      "text/plain": [
       "          ID                                              input  start_idx  \\\n",
       "0  TEST_0000                                  녀뮨넒뭅 만죡숭러윤 효템뤼에오.          0   \n",
       "1  TEST_0000                             푸싸눼 옰면 콕 츄쩐학꼬 싶은 콧쉰웨오.         18   \n",
       "2  TEST_0000                                          췌꾜윕뉘댜! ㅎㅎ         41   \n",
       "3  TEST_0000                                     당음웨 또 옭 컷 갗았요.         51   \n",
       "4  TEST_0001  풀룐투갸 엎코, 좀식또 업읍머, 윌뱐 잎츔민든릿 샤있샤윔엡 위썬 호뗄첨렴 관뤽갉 찰...          0   \n",
       "\n",
       "   end_idx                                             output  \n",
       "0       17                                  너무너무 만족스러운 호텔이에요.  \n",
       "1       40                             부산에 오면 꼭 추천하고 싶은 곳이네요.  \n",
       "2       50                                          최고입니다! ㅎㅎ  \n",
       "3       65                                     다음에 또 올 것 같아요.  \n",
       "4       58  프론트가 없고, 조식도 없으며, 일반 입주민들이 사이트임에 있어 호텔처럼 관리가 잘...  "
      ]
     },
     "execution_count": 2,
     "metadata": {},
     "output_type": "execute_result"
    }
   ],
   "source": [
    "sub_sentences.head()"
   ]
  },
  {
   "cell_type": "code",
   "execution_count": 3,
   "metadata": {},
   "outputs": [
    {
     "data": {
      "text/html": [
       "<div>\n",
       "<style scoped>\n",
       "    .dataframe tbody tr th:only-of-type {\n",
       "        vertical-align: middle;\n",
       "    }\n",
       "\n",
       "    .dataframe tbody tr th {\n",
       "        vertical-align: top;\n",
       "    }\n",
       "\n",
       "    .dataframe thead th {\n",
       "        text-align: right;\n",
       "    }\n",
       "</style>\n",
       "<table border=\"1\" class=\"dataframe\">\n",
       "  <thead>\n",
       "    <tr style=\"text-align: right;\">\n",
       "      <th></th>\n",
       "      <th>ID</th>\n",
       "      <th>output</th>\n",
       "    </tr>\n",
       "  </thead>\n",
       "  <tbody>\n",
       "    <tr>\n",
       "      <th>0</th>\n",
       "      <td>TEST_0000</td>\n",
       "      <td>너무너무 만족스러운 호텔이에요. 부산에 오면 꼭 추천하고 싶은 곳이에요. 최고입니다...</td>\n",
       "    </tr>\n",
       "    <tr>\n",
       "      <th>1</th>\n",
       "      <td>TEST_0001</td>\n",
       "      <td>프론트가 없고, 조식도 없으며, 일반 입주민들이 샤있샤윔엡 있어 호텔처럼 관리가 잘...</td>\n",
       "    </tr>\n",
       "    <tr>\n",
       "      <th>2</th>\n",
       "      <td>TEST_0002</td>\n",
       "      <td>진짜 불친절해요. 살면서 머물렀던 호텔 중에 최악이었습니다. 직원인지 사장인지 체크...</td>\n",
       "    </tr>\n",
       "    <tr>\n",
       "      <th>3</th>\n",
       "      <td>TEST_0003</td>\n",
       "      <td>뷰 맛집~~ 그런데 방음이 미흡하네요. 층간 소음과 발코니가 이중창이 아니라서 밤에...</td>\n",
       "    </tr>\n",
       "    <tr>\n",
       "      <th>4</th>\n",
       "      <td>TEST_0004</td>\n",
       "      <td>방 상태는 진짜 폐허 직전인데 전망은 좋아요. 보일러가 아주 찬찬하게 돌아서 추웠어...</td>\n",
       "    </tr>\n",
       "  </tbody>\n",
       "</table>\n",
       "</div>"
      ],
      "text/plain": [
       "          ID                                             output\n",
       "0  TEST_0000  너무너무 만족스러운 호텔이에요. 부산에 오면 꼭 추천하고 싶은 곳이에요. 최고입니다...\n",
       "1  TEST_0001  프론트가 없고, 조식도 없으며, 일반 입주민들이 샤있샤윔엡 있어 호텔처럼 관리가 잘...\n",
       "2  TEST_0002  진짜 불친절해요. 살면서 머물렀던 호텔 중에 최악이었습니다. 직원인지 사장인지 체크...\n",
       "3  TEST_0003  뷰 맛집~~ 그런데 방음이 미흡하네요. 층간 소음과 발코니가 이중창이 아니라서 밤에...\n",
       "4  TEST_0004  방 상태는 진짜 폐허 직전인데 전망은 좋아요. 보일러가 아주 찬찬하게 돌아서 추웠어..."
      ]
     },
     "execution_count": 3,
     "metadata": {},
     "output_type": "execute_result"
    }
   ],
   "source": [
    "post_df.head()"
   ]
  },
  {
   "cell_type": "code",
   "execution_count": 4,
   "metadata": {},
   "outputs": [
    {
     "name": "stderr",
     "output_type": "stream",
     "text": [
      "[Kss]: Oh! You have mecab in your environment. Kss will take this as a backend! :D\n",
      "\n"
     ]
    }
   ],
   "source": [
    "from kss import split_sentences\n",
    "\n",
    "post_df['sentences'] = post_df[\"output\"].apply(lambda x: split_sentences(x)) # 재복원하였음에도 글자 수가 일치하지 않는 문제를 해결하기 위해 1차 후처리된 리뷰를 문장 단위로 분리"
   ]
  },
  {
   "cell_type": "code",
   "execution_count": 5,
   "metadata": {},
   "outputs": [
    {
     "data": {
      "text/plain": [
       "0    [너무너무 만족스러운 호텔이에요., 부산에 오면 꼭 추천하고 싶은 곳이에요., 최고...\n",
       "1    [프론트가 없고, 조식도 없으며, 일반 입주민들이 샤있샤윔엡 있어 호텔처럼 관리가 ...\n",
       "2    [진짜 불친절해요., 살면서 머물렀던 호텔 중에 최악이었습니다., 직원인지 사장인지...\n",
       "3    [뷰 맛집~~ 그런데 방음이 미흡하네요., 층간 소음과 발코니가 이중창이 아니라서 ...\n",
       "4    [방 상태는 진짜 폐허 직전인데 전망은 좋아요., 보일러가 아주 찬찬하게 돌아서 추...\n",
       "Name: sentences, dtype: object"
      ]
     },
     "execution_count": 5,
     "metadata": {},
     "output_type": "execute_result"
    }
   ],
   "source": [
    "post_df['sentences'].head()"
   ]
  },
  {
   "cell_type": "code",
   "execution_count": 6,
   "metadata": {},
   "outputs": [
    {
     "data": {
      "text/html": [
       "<div>\n",
       "<style scoped>\n",
       "    .dataframe tbody tr th:only-of-type {\n",
       "        vertical-align: middle;\n",
       "    }\n",
       "\n",
       "    .dataframe tbody tr th {\n",
       "        vertical-align: top;\n",
       "    }\n",
       "\n",
       "    .dataframe thead th {\n",
       "        text-align: right;\n",
       "    }\n",
       "</style>\n",
       "<table border=\"1\" class=\"dataframe\">\n",
       "  <thead>\n",
       "    <tr style=\"text-align: right;\">\n",
       "      <th></th>\n",
       "      <th>ID</th>\n",
       "      <th>output</th>\n",
       "    </tr>\n",
       "  </thead>\n",
       "  <tbody>\n",
       "    <tr>\n",
       "      <th>0</th>\n",
       "      <td>TEST_0000</td>\n",
       "      <td>너무너무 만족스러운 호텔이에요.</td>\n",
       "    </tr>\n",
       "    <tr>\n",
       "      <th>1</th>\n",
       "      <td>TEST_0000</td>\n",
       "      <td>부산에 오면 꼭 추천하고 싶은 곳이에요.</td>\n",
       "    </tr>\n",
       "    <tr>\n",
       "      <th>2</th>\n",
       "      <td>TEST_0000</td>\n",
       "      <td>최고입니다! ㅎㅎ</td>\n",
       "    </tr>\n",
       "    <tr>\n",
       "      <th>3</th>\n",
       "      <td>TEST_0000</td>\n",
       "      <td>다음에 또 올 것 같아요.</td>\n",
       "    </tr>\n",
       "    <tr>\n",
       "      <th>4</th>\n",
       "      <td>TEST_0001</td>\n",
       "      <td>프론트가 없고, 조식도 없으며, 일반 입주민들이 샤있샤윔엡 있어 호텔처럼 관리가 잘...</td>\n",
       "    </tr>\n",
       "  </tbody>\n",
       "</table>\n",
       "</div>"
      ],
      "text/plain": [
       "          ID                                             output\n",
       "0  TEST_0000                                  너무너무 만족스러운 호텔이에요.\n",
       "1  TEST_0000                             부산에 오면 꼭 추천하고 싶은 곳이에요.\n",
       "2  TEST_0000                                          최고입니다! ㅎㅎ\n",
       "3  TEST_0000                                     다음에 또 올 것 같아요.\n",
       "4  TEST_0001  프론트가 없고, 조식도 없으며, 일반 입주민들이 샤있샤윔엡 있어 호텔처럼 관리가 잘..."
      ]
     },
     "execution_count": 6,
     "metadata": {},
     "output_type": "execute_result"
    }
   ],
   "source": [
    "post_sentences = {\"ID\": [], \"output\": []}\n",
    "for _, row in post_df.iterrows():\n",
    "    for sent in row['sentences']:\n",
    "        post_sentences[\"ID\"].append(row[\"ID\"])\n",
    "        post_sentences[\"output\"].append(sent)\n",
    "\n",
    "post_sentences_df = pd.DataFrame(post_sentences)\n",
    "post_sentences_df.head()"
   ]
  },
  {
   "cell_type": "code",
   "execution_count": 7,
   "metadata": {},
   "outputs": [],
   "source": [
    "import re\n",
    "\n",
    "# 단어와 공백을 분리하는 함수\n",
    "def split_with_spaces(text):\n",
    "    # 공백(1개 이상)과 단어를 분리\n",
    "    return re.split(r'(\\s+)', text)\n",
    "\n",
    "sub_sentences['input_words'] = sub_sentences['input'].apply(split_with_spaces)\n",
    "sub_sentences['output_words'] = sub_sentences['output'].apply(split_with_spaces)\n",
    "post_sentences_df['post_words'] = post_sentences_df['output'].apply(split_with_spaces)\n"
   ]
  },
  {
   "cell_type": "code",
   "execution_count": 8,
   "metadata": {},
   "outputs": [
    {
     "data": {
      "text/plain": [
       "0                          [녀뮨넒뭅,  , 만죡숭러윤,  , 효템뤼에오.]\n",
       "1         [푸싸눼,  , 옰면,  , 콕,  , 츄쩐학꼬,  , 싶은,  , 콧쉰웨오.]\n",
       "2                                      [췌꾜윕뉘댜!,  , ㅎㅎ]\n",
       "3                     [당음웨,  , 또,  , 옭,  , 컷,  , 갗았요.]\n",
       "4    [풀룐투갸,  , 엎코,,  , 좀식또,  , 업읍머,,  , 윌뱐,  , 잎츔민든...\n",
       "Name: input_words, dtype: object"
      ]
     },
     "execution_count": 8,
     "metadata": {},
     "output_type": "execute_result"
    }
   ],
   "source": [
    "sub_sentences['input_words'].head()"
   ]
  },
  {
   "cell_type": "code",
   "execution_count": 9,
   "metadata": {},
   "outputs": [
    {
     "data": {
      "text/plain": [
       "0                          [너무너무,  , 만족스러운,  , 호텔이에요.]\n",
       "1         [부산에,  , 오면,  , 꼭,  , 추천하고,  , 싶은,  , 곳이네요.]\n",
       "2                                      [최고입니다!,  , ㅎㅎ]\n",
       "3                     [다음에,  , 또,  , 올,  , 것,  , 같아요.]\n",
       "4    [프론트가,  , 없고,,  , 조식도,  , 없으며,,  , 일반,  , 입주민들...\n",
       "Name: output_words, dtype: object"
      ]
     },
     "execution_count": 9,
     "metadata": {},
     "output_type": "execute_result"
    }
   ],
   "source": [
    "sub_sentences['output_words'].head()"
   ]
  },
  {
   "cell_type": "code",
   "execution_count": 10,
   "metadata": {},
   "outputs": [
    {
     "data": {
      "text/plain": [
       "0                          [너무너무,  , 만족스러운,  , 호텔이에요.]\n",
       "1         [부산에,  , 오면,  , 꼭,  , 추천하고,  , 싶은,  , 곳이에요.]\n",
       "2                                      [최고입니다!,  , ㅎㅎ]\n",
       "3                     [다음에,  , 또,  , 올,  , 것,  , 같아요.]\n",
       "4    [프론트가,  , 없고,,  , 조식도,  , 없으며,,  , 일반,  , 입주민들...\n",
       "Name: post_words, dtype: object"
      ]
     },
     "execution_count": 10,
     "metadata": {},
     "output_type": "execute_result"
    }
   ],
   "source": [
    "post_sentences_df['post_words'].head()"
   ]
  },
  {
   "cell_type": "code",
   "execution_count": 11,
   "metadata": {},
   "outputs": [],
   "source": [
    "for input_words, output_words, post_words in zip(sub_sentences['input_words'], sub_sentences['output_words'], post_sentences_df['post_words']):\n",
    "    for i, (input_word, output_word, post_word) in enumerate(zip(input_words, output_words, post_words)):\n",
    "        if len(input_word) != len(output_word): # 재복원하였음에도 글자수가 일치하지 않는 부분을 추출\n",
    "            output_words[i] = post_word # 1차 후처리된 문장에 있는 단어들로 대체"
   ]
  },
  {
   "cell_type": "code",
   "execution_count": 12,
   "metadata": {},
   "outputs": [],
   "source": [
    "# 전체 문장의 길이가 안맞는 경우에는 기존 후처리 방법을 통해 처리\n",
    "\n",
    "outputs = []\n",
    "for i, (input_text, output_words) in enumerate(zip(sub_sentences['input'], sub_sentences['output_words'])):\n",
    "    new_output = ''.join(output_words)\n",
    "    if len(new_output) < len(input_text):\n",
    "        new_output += input_text[len(new_output):]\n",
    "    elif len(new_output) > len(input_text):\n",
    "        new_output = new_output[:len(input_text)]\n",
    "\n",
    "    outputs.append(new_output)"
   ]
  },
  {
   "cell_type": "code",
   "execution_count": 13,
   "metadata": {},
   "outputs": [],
   "source": [
    "sub_sentences['output'] = outputs"
   ]
  },
  {
   "cell_type": "markdown",
   "metadata": {},
   "source": [
    "### 🏷️ 기존 난독화된 리뷰에 대응되는 부분 덮어쓰기"
   ]
  },
  {
   "cell_type": "code",
   "execution_count": 14,
   "metadata": {},
   "outputs": [],
   "source": [
    "test_df = pd.read_csv('../data/test.csv', encoding='utf-8-sig') # 난독화된 리뷰"
   ]
  },
  {
   "cell_type": "code",
   "execution_count": 15,
   "metadata": {},
   "outputs": [
    {
     "data": {
      "text/html": [
       "<div>\n",
       "<style scoped>\n",
       "    .dataframe tbody tr th:only-of-type {\n",
       "        vertical-align: middle;\n",
       "    }\n",
       "\n",
       "    .dataframe tbody tr th {\n",
       "        vertical-align: top;\n",
       "    }\n",
       "\n",
       "    .dataframe thead th {\n",
       "        text-align: right;\n",
       "    }\n",
       "</style>\n",
       "<table border=\"1\" class=\"dataframe\">\n",
       "  <thead>\n",
       "    <tr style=\"text-align: right;\">\n",
       "      <th></th>\n",
       "      <th>ID</th>\n",
       "      <th>input</th>\n",
       "    </tr>\n",
       "  </thead>\n",
       "  <tbody>\n",
       "    <tr>\n",
       "      <th>0</th>\n",
       "      <td>TEST_0000</td>\n",
       "      <td>녀뮨넒뭅 만죡숭러윤 효템뤼에오. 푸싸눼 옰면 콕 츄쩐학꼬 싶은 콧쉰웨오. 췌꾜윕뉘댜...</td>\n",
       "    </tr>\n",
       "    <tr>\n",
       "      <th>1</th>\n",
       "      <td>TEST_0001</td>\n",
       "      <td>풀룐투갸 엎코, 좀식또 업읍머, 윌뱐 잎츔민든릿 샤있샤윔엡 위썬 호뗄첨렴 관뤽갉 찰...</td>\n",
       "    </tr>\n",
       "    <tr>\n",
       "      <th>2</th>\n",
       "      <td>TEST_0002</td>\n",
       "      <td>쥔차 붉찐졀행욘. 삶먼섶 멂묽럿턴 혹텔 중웨 쬐약위였습뉜따. 칙어뉜쥐 샤쨩윈쥐 쩨끄...</td>\n",
       "    </tr>\n",
       "    <tr>\n",
       "      <th>3</th>\n",
       "      <td>TEST_0003</td>\n",
       "      <td>붊 맛짚~~ 글련뎨 방움잃 뮈흙퍄녜용. 충칸 쏘움광 팔쿄닛갸 잊중짱임 야뉘럇셧 팜몌...</td>\n",
       "    </tr>\n",
       "    <tr>\n",
       "      <th>4</th>\n",
       "      <td>TEST_0004</td>\n",
       "      <td>빻 샹택는 쥔쨔 폐헐 칙젓뉜테 쩐맣은 죠하욧. 뽀읾럭카 알쥬 찬쟌합꿰 똘앝썬 츄어서...</td>\n",
       "    </tr>\n",
       "  </tbody>\n",
       "</table>\n",
       "</div>"
      ],
      "text/plain": [
       "          ID                                              input\n",
       "0  TEST_0000  녀뮨넒뭅 만죡숭러윤 효템뤼에오. 푸싸눼 옰면 콕 츄쩐학꼬 싶은 콧쉰웨오. 췌꾜윕뉘댜...\n",
       "1  TEST_0001  풀룐투갸 엎코, 좀식또 업읍머, 윌뱐 잎츔민든릿 샤있샤윔엡 위썬 호뗄첨렴 관뤽갉 찰...\n",
       "2  TEST_0002  쥔차 붉찐졀행욘. 삶먼섶 멂묽럿턴 혹텔 중웨 쬐약위였습뉜따. 칙어뉜쥐 샤쨩윈쥐 쩨끄...\n",
       "3  TEST_0003  붊 맛짚~~ 글련뎨 방움잃 뮈흙퍄녜용. 충칸 쏘움광 팔쿄닛갸 잊중짱임 야뉘럇셧 팜몌...\n",
       "4  TEST_0004  빻 샹택는 쥔쨔 폐헐 칙젓뉜테 쩐맣은 죠하욧. 뽀읾럭카 알쥬 찬쟌합꿰 똘앝썬 츄어서..."
      ]
     },
     "execution_count": 15,
     "metadata": {},
     "output_type": "execute_result"
    }
   ],
   "source": [
    "test_df.head()"
   ]
  },
  {
   "cell_type": "code",
   "execution_count": 16,
   "metadata": {},
   "outputs": [],
   "source": [
    "output_texts = []\n",
    "for idx, row in test_df.iterrows():\n",
    "    input_text = row['input']\n",
    "    mapping_row = sub_sentences[sub_sentences[\"ID\"] == row[\"ID\"]] # 난독화된 리뷰와 동일한 ID를 가지는 문장 단위의 복원된 리뷰들을 추출\n",
    "    for _, mapping_row in mapping_row.iterrows(): # 복원된 문장들을 하나씩 대체\n",
    "        output = mapping_row[\"output\"]\n",
    "        start_idx = mapping_row[\"start_idx\"]\n",
    "        end_idx = mapping_row[\"end_idx\"]\n",
    "        text = input_text[start_idx:end_idx]\n",
    "        input_text = input_text.replace(text, output)\n",
    "    output_texts.append(input_text) # 합쳐진 문장들을 저장\n"
   ]
  },
  {
   "cell_type": "markdown",
   "metadata": {},
   "source": [
    "### 🏷️ 제출 파일에 저장하기"
   ]
  },
  {
   "cell_type": "code",
   "execution_count": 17,
   "metadata": {},
   "outputs": [],
   "source": [
    "submission = pd.DataFrame({'ID': test_df['ID'], 'output': output_texts})\n",
    "submission.to_csv('../submissions/submission_final.csv', index=False, encoding='utf-8-sig')"
   ]
  }
 ],
 "metadata": {
  "kernelspec": {
   "display_name": "dacon-test",
   "language": "python",
   "name": "python3"
  },
  "language_info": {
   "codemirror_mode": {
    "name": "ipython",
    "version": 3
   },
   "file_extension": ".py",
   "mimetype": "text/x-python",
   "name": "python",
   "nbconvert_exporter": "python",
   "pygments_lexer": "ipython3",
   "version": "3.10.16"
  }
 },
 "nbformat": 4,
 "nbformat_minor": 2
}
